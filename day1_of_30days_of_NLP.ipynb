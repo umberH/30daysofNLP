{
  "nbformat": 4,
  "nbformat_minor": 0,
  "metadata": {
    "colab": {
      "name": "day1 of 30days of NLP.ipynb",
      "provenance": [],
      "authorship_tag": "ABX9TyPM70AJcAJ/badU9hHyKuXR",
      "include_colab_link": true
    },
    "kernelspec": {
      "name": "python3",
      "display_name": "Python 3"
    },
    "language_info": {
      "name": "python"
    }
  },
  "cells": [
    {
      "cell_type": "markdown",
      "metadata": {
        "id": "view-in-github",
        "colab_type": "text"
      },
      "source": [
        "<a href=\"https://colab.research.google.com/github/umberH/30daysofNLP/blob/main/day1_of_30days_of_NLP.ipynb\" target=\"_parent\"><img src=\"https://colab.research.google.com/assets/colab-badge.svg\" alt=\"Open In Colab\"/></a>"
      ]
    },
    {
      "cell_type": "code",
      "source": [
        "# text processing\n",
        "\n"
      ],
      "metadata": {
        "id": "iO_L0hDtHbI8"
      },
      "execution_count": null,
      "outputs": []
    },
    {
      "cell_type": "code",
      "execution_count": null,
      "metadata": {
        "colab": {
          "base_uri": "https://localhost:8080/"
        },
        "id": "IQyZvH87BIAq",
        "outputId": "fee76617-abd0-468a-e10d-0b48cae2bca8"
      },
      "outputs": [
        {
          "output_type": "stream",
          "name": "stdout",
          "text": [
            "['today', ' ', 'I', ' ', 'will', ' ', 'be', ' ', 'working', ' ', 'from', ' ', 'home']\n",
            "['today I', 'I will', 'will be', 'be working', 'working from', 'from home']\n",
            "['today I will', 'I will be', 'will be working', 'be working from', 'working from home']\n"
          ]
        }
      ],
      "source": [
        "\n",
        "import jieba\n",
        "text ='Today I will be working from home'\n",
        "unigram = jieba.cut(text)\n",
        "uni_list = list(unigram)\n",
        "print(uni_list)\n",
        "\n",
        "# bigram \n",
        "split_text = text.split(\" \")\n",
        "bigrams= [] \n",
        "for i in range(len(split_text)-1):\n",
        "  bigrams.append(split_text[i]+\" \"+split_text[i+1])\n",
        "print(bigrams)\n",
        "\n",
        "# trigrams \n",
        "trigrams = []\n",
        "for i in range(len(split_text)-2):\n",
        "  trigrams.append(split_text[i]+\" \"+split_text[i+1]+\" \"+split_text[i+2])\n",
        "print(trigrams)"
      ]
    }
  ]
}